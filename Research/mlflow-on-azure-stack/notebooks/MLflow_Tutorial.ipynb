{
 "cells": [
  {
   "cell_type": "markdown",
   "metadata": {},
   "source": [
    "# MLflow Tutorial"
   ]
  },
  {
   "cell_type": "markdown",
   "metadata": {},
   "source": [
    "MLflow is an open source platform for managing the end-to-end machine learning lifecycle. In this notebook we will walk through some of its capabilities focusing on how tracking works, what a project is, and MLflow models."
   ]
  },
  {
   "cell_type": "markdown",
   "metadata": {},
   "source": [
    "### Create project files\n",
    "\n",
    "An MLproject file and yaml file are important for packaging a project so that other Data Scientists can easily reuse the model or so that you can run the training remotely, for example Databricks.\n",
    "\n",
    "The MLproject file specifies entry points, name, and conda environment file for the project."
   ]
  },
  {
   "cell_type": "code",
   "execution_count": null,
   "metadata": {},
   "outputs": [],
   "source": [
    "%%writefile \"MLproject\"\n",
    "\n",
    "name: tutorial\n",
    "\n",
    "conda_env: conda.yaml\n",
    "\n",
    "entry_points:\n",
    "  main:\n",
    "    parameters:\n",
    "      alpha: {type: float, default: 0.01}\n",
    "      l1_ratio: {type: float, default: 0.1}\n",
    "    command: \"python train_diabetes.py {alpha} {l1_ratio}\""
   ]
  },
  {
   "cell_type": "code",
   "execution_count": 60,
   "metadata": {},
   "outputs": [
    {
     "name": "stdout",
     "output_type": "stream",
     "text": [
      "Microsoft Windows [Version 10.0.18362.836]\r\n",
      "(c) 2019 Microsoft Corporation. All rights reserved.\r\n",
      "\r\n",
      "C:\\Users\\ChristopherBowers\\Documents\\MLflow_Tutorial>more \"MLproject\"\n",
      "\r\n",
      "name: tutorial\r\n",
      "\r\n",
      "conda_env: conda.yaml\r\n",
      "\r\n",
      "entry_points:\r\n",
      "  main:\r\n",
      "    parameters:\r\n",
      "      alpha: {type: float, default: 0.01}\r\n",
      "      l1_ratio: {type: float, default: 0.1}\r\n",
      "    command: \"python train_diabetes.py {alpha} {l1_ratio}\"\r\n",
      "\r\n",
      "C:\\Users\\ChristopherBowers\\Documents\\MLflow_Tutorial>"
     ]
    }
   ],
   "source": [
    "%%cmd\n",
    "more \"MLproject\""
   ]
  },
  {
   "cell_type": "markdown",
   "metadata": {},
   "source": [
    "The yaml file specifies the projects dependencies."
   ]
  },
  {
   "cell_type": "code",
   "execution_count": null,
   "metadata": {},
   "outputs": [],
   "source": [
    "%%writefile \"conda.yaml\"\n",
    "\n",
    "name: tutorial\n",
    "channels:\n",
    "  - defaults\n",
    "  - anaconda\n",
    "  - conda-forge\n",
    "dependencies:\n",
    "  - cloudpickle=0.6.1\n",
    "  - python=3.6\n",
    "  - numpy=1.14.3\n",
    "  - matplotlib=3.0.2\n",
    "  - pandas=0.22.0\n",
    "  - scikit-learn=0.19.1\n",
    "  - pip\n",
    "  - pip:\n",
    "    - mlflow"
   ]
  },
  {
   "cell_type": "code",
   "execution_count": 61,
   "metadata": {},
   "outputs": [
    {
     "name": "stdout",
     "output_type": "stream",
     "text": [
      "Microsoft Windows [Version 10.0.18362.836]\r\n",
      "(c) 2019 Microsoft Corporation. All rights reserved.\r\n",
      "\r\n",
      "C:\\Users\\ChristopherBowers\\Documents\\MLflow_Tutorial>more \"conda.yaml\"\n",
      "\r\n",
      "name: tutorial\r\n",
      "channels:\r\n",
      "  - defaults\r\n",
      "  - anaconda\r\n",
      "  - conda-forge\r\n",
      "dependencies:\r\n",
      "  - cloudpickle=0.6.1\r\n",
      "  - python=3.6\r\n",
      "  - numpy=1.14.3\r\n",
      "  - matplotlib=3.0.2\r\n",
      "  - pandas=0.22.0\r\n",
      "  - scikit-learn=0.19.1\r\n",
      "  - pip\r\n",
      "  - pip:\r\n",
      "    - mlflow\r\n",
      "\r\n",
      "C:\\Users\\ChristopherBowers\\Documents\\MLflow_Tutorial>"
     ]
    }
   ],
   "source": [
    "%%cmd\n",
    "more \"conda.yaml\""
   ]
  },
  {
   "cell_type": "markdown",
   "metadata": {},
   "source": [
    "### Import libraries\n",
    "\n",
    "Importing the required libraries for this tutorial."
   ]
  },
  {
   "cell_type": "code",
   "execution_count": 1,
   "metadata": {},
   "outputs": [],
   "source": [
    "import os\n",
    "import warnings\n",
    "import sys\n",
    "\n",
    "import pandas as pd\n",
    "import numpy as np\n",
    "from itertools import cycle\n",
    "import matplotlib.pyplot as plt\n",
    "from sklearn.metrics import mean_squared_error, mean_absolute_error, r2_score\n",
    "from sklearn.model_selection import train_test_split\n",
    "from sklearn.linear_model import ElasticNet\n",
    "from sklearn.linear_model import lasso_path, enet_path\n",
    "from sklearn import datasets\n",
    "import mlflow\n",
    "import mlflow.sklearn\n",
    "from mlflow import log_param, log_metric, log_artifact\n",
    "from mlflow.sklearn import log_model"
   ]
  },
  {
   "cell_type": "markdown",
   "metadata": {},
   "source": [
    "### Set tracking uri\n",
    "\n",
    "This sets the tracking location. Once information is logged this uri will be used to send it to the correct location. In this case a remote cluster."
   ]
  },
  {
   "cell_type": "code",
   "execution_count": 2,
   "metadata": {},
   "outputs": [],
   "source": [
    "remote_server_uri = \"http://38.102.178.57:5000\" # set to your server URI\n",
    "mlflow.set_tracking_uri(remote_server_uri)\n",
    "# Note: on Databricks, the experiment name passed to mlflow_set_experiment must be a\n",
    "# valid path in the workspace"
   ]
  },
  {
   "cell_type": "markdown",
   "metadata": {},
   "source": [
    "Enter the uri into a web browser and click on your experiments name to view your experiment."
   ]
  },
  {
   "cell_type": "markdown",
   "metadata": {},
   "source": [
    "### Set Experiment\n",
    "Setting the experiment lets MLflow know what experiment the next run should be logged under. Other experiments with the same name are grouped together so that differences between runs are easy to see."
   ]
  },
  {
   "cell_type": "code",
   "execution_count": 64,
   "metadata": {},
   "outputs": [],
   "source": [
    "mlflow.set_experiment(\"another-experiment\")"
   ]
  },
  {
   "cell_type": "markdown",
   "metadata": {},
   "source": [
    "### Load data\n",
    "\n",
    "Loading data and labeling the target feature."
   ]
  },
  {
   "cell_type": "code",
   "execution_count": null,
   "metadata": {},
   "outputs": [],
   "source": [
    "diabetes = datasets.load_diabetes()\n",
    "X = diabetes.data\n",
    "y = diabetes.target\n",
    "Y = np.array([y]).transpose()\n",
    "d = np.concatenate((X, Y), axis=1)\n",
    "cols = diabetes.feature_names + ['progression']\n",
    "data = pd.DataFrame(d, columns=cols)"
   ]
  },
  {
   "cell_type": "markdown",
   "metadata": {},
   "source": [
    "### Set-up evaluation function\n",
    "\n",
    "This is a wrapper function that calculates three metrics and returns them as a tuple."
   ]
  },
  {
   "cell_type": "code",
   "execution_count": 5,
   "metadata": {},
   "outputs": [],
   "source": [
    "def eval_metrics(actual, pred):\n",
    "    rmse = np.sqrt(mean_squared_error(actual, pred))\n",
    "    mae = mean_absolute_error(actual, pred)    \n",
    "    r2 = r2_score(actual, pred)\n",
    "    return rmse, mae, r2"
   ]
  },
  {
   "cell_type": "markdown",
   "metadata": {},
   "source": [
    "### Train Test Split\n",
    "\n",
    "Performing a Train Test Split to keep a portion of the data \"unseen\" by the model during training."
   ]
  },
  {
   "cell_type": "code",
   "execution_count": 54,
   "metadata": {},
   "outputs": [],
   "source": [
    "train, test = train_test_split(data, random_state=40)\n",
    "train_x = train.drop([\"progression\"], axis=1)\n",
    "test_x = test.drop([\"progression\"], axis=1)\n",
    "train_y = train[[\"progression\"]]\n",
    "test_y = test[[\"progression\"]]"
   ]
  },
  {
   "cell_type": "markdown",
   "metadata": {},
   "source": [
    "### Create Model\n",
    "\n",
    "Defining the model and hyper parameters below. The model is then evaluated and the metrics from the eval_metrics function we created earlier are printed."
   ]
  },
  {
   "cell_type": "code",
   "execution_count": 8,
   "metadata": {},
   "outputs": [],
   "source": [
    "alpha = 0.05\n",
    "l1_ratio = 0.05\n",
    "\n",
    "lr = ElasticNet(alpha=alpha, l1_ratio=l1_ratio, random_state=42)\n",
    "lr.fit(train_x, train_y)\n",
    "predicted_qualities = lr.predict(test_x)\n",
    "(rmse, mae, r2) = eval_metrics(test_y, predicted_qualities)\n",
    "\n",
    "print(\"Elasticnet model (alpha=%f, l1_ratio=%f):\" % (alpha, l1_ratio))\n",
    "print(\"  RMSE: %s\" % rmse)\n",
    "print(\"  MAE: %s\" % mae)\n",
    "print(\"  R2: %s\" % r2)"
   ]
  },
  {
   "cell_type": "markdown",
   "metadata": {},
   "source": [
    "### Logging model data and meta data\n",
    "\n",
    "An mlflow run is started. Any metrics, parameters, or artifacts can now be logged for this run. Here we have logged the alpha, l1 ratio, and all three performance metrics from our eval_metrics function. In addition to parameters and metrics artifacts can be logged. The last line of code here logs the model we've created and registers it as 'ElasticnetDiabetesModel'.\n",
    "\n",
    "Much like experiments registered models have a history. Lineage, versionoing, stage transitions, and annotations are all recorded and kept track of."
   ]
  },
  {
   "cell_type": "code",
   "execution_count": 72,
   "metadata": {},
   "outputs": [],
   "source": [
    "mlflow.start_run()\n",
    "log_param(\"alpha\", alpha)\n",
    "log_param(\"l1_ratio\", l1_ratio)\n",
    "log_metric(\"rmse\", rmse)\n",
    "log_metric(\"r2\", r2)\n",
    "log_metric(\"mae\", mae)\n",
    "#log_model(lr, artifact_path=remote_server_uri + '/mlruns/4/model', registered_model_name='ElasticnetDiabetesModel')"
   ]
  },
  {
   "cell_type": "markdown",
   "metadata": {},
   "source": [
    "### Logging other artifacts\n",
    "\n",
    "Other artifacts can be logged from runs as well. the script below creates a plot of the regularization path using the elastic net. The last line logs that graph to this run as an artifact."
   ]
  },
  {
   "cell_type": "code",
   "execution_count": 71,
   "metadata": {},
   "outputs": [
    {
     "name": "stdout",
     "output_type": "stream",
     "text": [
      "Computing regularization path using the elastic net.\n"
     ]
    },
    {
     "data": {
      "image/png": "[encoded data removed]",
      "text/plain": [
       "<Figure size 432x288 with 1 Axes>"
      ]
     },
     "metadata": {
      "needs_background": "light"
     },
     "output_type": "display_data"
    }
   ],
   "source": [
    "eps = 5e-3  # the smaller it is the longer is the path\n",
    "\n",
    "print(\"Computing regularization path using the elastic net.\")\n",
    "alphas_enet, coefs_enet, _ = enet_path(X, y, eps=eps, l1_ratio=l1_ratio, fit_intercept=False)\n",
    "\n",
    "fig = plt.figure(1)\n",
    "ax = plt.gca()\n",
    "colors = cycle(['b', 'r', 'g', 'c', 'k'])\n",
    "neg_log_alphas_enet = -np.log10(alphas_enet)\n",
    "for coef_e, c in zip(coefs_enet, colors):\n",
    "    l2 = plt.plot(neg_log_alphas_enet, coef_e, linestyle='--', c=c)\n",
    "    \n",
    "\n",
    "plt.xlabel('-Log(alpha)')\n",
    "plt.ylabel('coefficients')\n",
    "title = 'ElasticNet Path by alpha for l1_ratio = ' + str(l1_ratio)\n",
    "plt.title(title)\n",
    "plt.axis('tight')\n",
    "\n",
    "fig.savefig(\"ElasticNet-paths.png\")\n",
    "#log_artifact(\"ElasticNet-paths.png\", artifact_path='./mlruns/4/')\n",
    "mlflow.end_run()"
   ]
  },
  {
   "cell_type": "code",
   "execution_count": null,
   "metadata": {},
   "outputs": [],
   "source": []
  }
 ],
 "metadata": {
  "kernelspec": {
   "display_name": "Python 3",
   "language": "python",
   "name": "python3"
  },
  "language_info": {
   "codemirror_mode": {
    "name": "ipython",
    "version": 3
   },
   "file_extension": ".py",
   "mimetype": "text/x-python",
   "name": "python",
   "nbconvert_exporter": "python",
   "pygments_lexer": "ipython3",
   "version": "3.7.6"
  }
 },
 "nbformat": 4,
 "nbformat_minor": 4
}
